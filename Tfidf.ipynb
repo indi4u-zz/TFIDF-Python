{
 "cells": [
  {
   "cell_type": "code",
   "execution_count": 1,
   "metadata": {
    "collapsed": false
   },
   "outputs": [],
   "source": [
    "import nltk\n",
    "import string\n",
    "\n",
    "from collections import Counter\n",
    "import pandas as pd \n",
    "import numpy as np\n",
    "from nltk.stem.porter import *\n"
   ]
  },
  {
   "cell_type": "code",
   "execution_count": 3,
   "metadata": {
    "collapsed": false
   },
   "outputs": [
    {
     "name": "stdout",
     "output_type": "stream",
     "text": [
      "NLTK Downloader\n",
      "---------------------------------------------------------------------------\n",
      "    d) Download   l) List    u) Update   c) Config   h) Help   q) Quit\n",
      "---------------------------------------------------------------------------\n",
      "Downloader> q\n"
     ]
    },
    {
     "data": {
      "text/plain": [
       "True"
      ]
     },
     "execution_count": 3,
     "metadata": {},
     "output_type": "execute_result"
    }
   ],
   "source": [
    "nltk.download()"
   ]
  },
  {
   "cell_type": "code",
   "execution_count": 22,
   "metadata": {
    "collapsed": false
   },
   "outputs": [],
   "source": [
    "input_data = pd.read_csv('Labelled.csv', header= 0)"
   ]
  },
  {
   "cell_type": "code",
   "execution_count": 24,
   "metadata": {
    "collapsed": false
   },
   "outputs": [
    {
     "data": {
      "text/html": [
       "<div>\n",
       "<style>\n",
       "    .dataframe thead tr:only-child th {\n",
       "        text-align: right;\n",
       "    }\n",
       "\n",
       "    .dataframe thead th {\n",
       "        text-align: left;\n",
       "    }\n",
       "\n",
       "    .dataframe tbody tr th {\n",
       "        vertical-align: top;\n",
       "    }\n",
       "</style>\n",
       "<table border=\"1\" class=\"dataframe\">\n",
       "  <thead>\n",
       "    <tr style=\"text-align: right;\">\n",
       "      <th></th>\n",
       "      <th>Reviewer ID</th>\n",
       "      <th>Reviewer BU</th>\n",
       "      <th>Reviewer CG</th>\n",
       "      <th>Reviewer Track</th>\n",
       "      <th>Reviewee ID</th>\n",
       "      <th>Comment 1</th>\n",
       "      <th>Comment 2</th>\n",
       "      <th>Comment 3</th>\n",
       "      <th>Polarity_Comment1</th>\n",
       "      <th>Polarity_Comment3</th>\n",
       "    </tr>\n",
       "  </thead>\n",
       "  <tbody>\n",
       "    <tr>\n",
       "      <th>0</th>\n",
       "      <td>1264</td>\n",
       "      <td>Evanston</td>\n",
       "      <td>Business Consulting</td>\n",
       "      <td>No Selection</td>\n",
       "      <td>159</td>\n",
       "      <td>Over the past year, Brenda has been a key lead...</td>\n",
       "      <td>Brenda is very service oriented and responsive...</td>\n",
       "      <td>Brenda's communication style with her team / s...</td>\n",
       "      <td>NaN</td>\n",
       "      <td>N</td>\n",
       "    </tr>\n",
       "    <tr>\n",
       "      <th>1</th>\n",
       "      <td>2348</td>\n",
       "      <td>Chicago</td>\n",
       "      <td>Business Consulting</td>\n",
       "      <td>No Selection</td>\n",
       "      <td>432</td>\n",
       "      <td>Chuck&amp;nbsp;is the de facto alignment / territo...</td>\n",
       "      <td>Chuck is THE alignment expert at ZS in my opin...</td>\n",
       "      <td>Chuck is faced with a bit of a catch-22. He is...</td>\n",
       "      <td>NaN</td>\n",
       "      <td>Ne</td>\n",
       "    </tr>\n",
       "    <tr>\n",
       "      <th>2</th>\n",
       "      <td>238</td>\n",
       "      <td>Evanston</td>\n",
       "      <td>Business Consulting</td>\n",
       "      <td>No Selection</td>\n",
       "      <td>432</td>\n",
       "      <td>Chuck gives me great leverage on alignment pro...</td>\n",
       "      <td>Chuck is very willing to help out with proposa...</td>\n",
       "      <td>Two areas for Chuck to continue to work on: &amp;n...</td>\n",
       "      <td>NaN</td>\n",
       "      <td>Ne</td>\n",
       "    </tr>\n",
       "    <tr>\n",
       "      <th>3</th>\n",
       "      <td>2245</td>\n",
       "      <td>Chicago</td>\n",
       "      <td>Business Consulting</td>\n",
       "      <td>No Selection</td>\n",
       "      <td>462</td>\n",
       "      <td>Joy is always focused on the best outcome for ...</td>\n",
       "      <td>Makes strong effort to understand project need...</td>\n",
       "      <td>While very challenging in practice, try to be ...</td>\n",
       "      <td>NaN</td>\n",
       "      <td>P</td>\n",
       "    </tr>\n",
       "    <tr>\n",
       "      <th>4</th>\n",
       "      <td>1085</td>\n",
       "      <td>Evanston</td>\n",
       "      <td>Business Consulting</td>\n",
       "      <td>No Selection</td>\n",
       "      <td>462</td>\n",
       "      <td>Joy is without question adds impact to this or...</td>\n",
       "      <td>1.&amp;nbsp; Clear and concise in her communicatio...</td>\n",
       "      <td>I honestly don't have asks of what I would hop...</td>\n",
       "      <td>NaN</td>\n",
       "      <td>P</td>\n",
       "    </tr>\n",
       "  </tbody>\n",
       "</table>\n",
       "</div>"
      ],
      "text/plain": [
       "   Reviewer ID Reviewer BU          Reviewer CG Reviewer Track  Reviewee ID  \\\n",
       "0         1264    Evanston  Business Consulting   No Selection          159   \n",
       "1         2348     Chicago  Business Consulting   No Selection          432   \n",
       "2          238    Evanston  Business Consulting   No Selection          432   \n",
       "3         2245     Chicago  Business Consulting   No Selection          462   \n",
       "4         1085    Evanston  Business Consulting   No Selection          462   \n",
       "\n",
       "                                           Comment 1  \\\n",
       "0  Over the past year, Brenda has been a key lead...   \n",
       "1  Chuck&nbsp;is the de facto alignment / territo...   \n",
       "2  Chuck gives me great leverage on alignment pro...   \n",
       "3  Joy is always focused on the best outcome for ...   \n",
       "4  Joy is without question adds impact to this or...   \n",
       "\n",
       "                                           Comment 2  \\\n",
       "0  Brenda is very service oriented and responsive...   \n",
       "1  Chuck is THE alignment expert at ZS in my opin...   \n",
       "2  Chuck is very willing to help out with proposa...   \n",
       "3  Makes strong effort to understand project need...   \n",
       "4  1.&nbsp; Clear and concise in her communicatio...   \n",
       "\n",
       "                                           Comment 3  Polarity_Comment1  \\\n",
       "0  Brenda's communication style with her team / s...                NaN   \n",
       "1  Chuck is faced with a bit of a catch-22. He is...                NaN   \n",
       "2  Two areas for Chuck to continue to work on: &n...                NaN   \n",
       "3  While very challenging in practice, try to be ...                NaN   \n",
       "4  I honestly don't have asks of what I would hop...                NaN   \n",
       "\n",
       "  Polarity_Comment3  \n",
       "0                 N  \n",
       "1                Ne  \n",
       "2                Ne  \n",
       "3                 P  \n",
       "4                 P  "
      ]
     },
     "execution_count": 24,
     "metadata": {},
     "output_type": "execute_result"
    }
   ],
   "source": [
    "input_data.head()"
   ]
  },
  {
   "cell_type": "code",
   "execution_count": 25,
   "metadata": {
    "collapsed": false
   },
   "outputs": [
    {
     "data": {
      "text/plain": [
       "(289, 10)"
      ]
     },
     "execution_count": 25,
     "metadata": {},
     "output_type": "execute_result"
    }
   ],
   "source": [
    "input_data.shape"
   ]
  },
  {
   "cell_type": "code",
   "execution_count": 26,
   "metadata": {
    "collapsed": true
   },
   "outputs": [],
   "source": [
    "input_data[\"id\"] = input_data.index + 1\n"
   ]
  },
  {
   "cell_type": "code",
   "execution_count": 27,
   "metadata": {
    "collapsed": false
   },
   "outputs": [
    {
     "data": {
      "text/html": [
       "<div>\n",
       "<style>\n",
       "    .dataframe thead tr:only-child th {\n",
       "        text-align: right;\n",
       "    }\n",
       "\n",
       "    .dataframe thead th {\n",
       "        text-align: left;\n",
       "    }\n",
       "\n",
       "    .dataframe tbody tr th {\n",
       "        vertical-align: top;\n",
       "    }\n",
       "</style>\n",
       "<table border=\"1\" class=\"dataframe\">\n",
       "  <thead>\n",
       "    <tr style=\"text-align: right;\">\n",
       "      <th></th>\n",
       "      <th>Reviewer ID</th>\n",
       "      <th>Reviewer BU</th>\n",
       "      <th>Reviewer CG</th>\n",
       "      <th>Reviewer Track</th>\n",
       "      <th>Reviewee ID</th>\n",
       "      <th>Comment 1</th>\n",
       "      <th>Comment 2</th>\n",
       "      <th>Comment 3</th>\n",
       "      <th>Polarity_Comment1</th>\n",
       "      <th>id</th>\n",
       "    </tr>\n",
       "    <tr>\n",
       "      <th>Polarity_Comment3</th>\n",
       "      <th></th>\n",
       "      <th></th>\n",
       "      <th></th>\n",
       "      <th></th>\n",
       "      <th></th>\n",
       "      <th></th>\n",
       "      <th></th>\n",
       "      <th></th>\n",
       "      <th></th>\n",
       "      <th></th>\n",
       "    </tr>\n",
       "  </thead>\n",
       "  <tbody>\n",
       "    <tr>\n",
       "      <th>N</th>\n",
       "      <td>101</td>\n",
       "      <td>101</td>\n",
       "      <td>101</td>\n",
       "      <td>59</td>\n",
       "      <td>101</td>\n",
       "      <td>101</td>\n",
       "      <td>101</td>\n",
       "      <td>101</td>\n",
       "      <td>0</td>\n",
       "      <td>101</td>\n",
       "    </tr>\n",
       "    <tr>\n",
       "      <th>Ne</th>\n",
       "      <td>116</td>\n",
       "      <td>116</td>\n",
       "      <td>116</td>\n",
       "      <td>47</td>\n",
       "      <td>116</td>\n",
       "      <td>116</td>\n",
       "      <td>116</td>\n",
       "      <td>116</td>\n",
       "      <td>0</td>\n",
       "      <td>116</td>\n",
       "    </tr>\n",
       "    <tr>\n",
       "      <th>P</th>\n",
       "      <td>72</td>\n",
       "      <td>72</td>\n",
       "      <td>72</td>\n",
       "      <td>49</td>\n",
       "      <td>72</td>\n",
       "      <td>72</td>\n",
       "      <td>72</td>\n",
       "      <td>72</td>\n",
       "      <td>0</td>\n",
       "      <td>72</td>\n",
       "    </tr>\n",
       "  </tbody>\n",
       "</table>\n",
       "</div>"
      ],
      "text/plain": [
       "                   Reviewer ID  Reviewer BU  Reviewer CG  Reviewer Track  \\\n",
       "Polarity_Comment3                                                          \n",
       "N                          101          101          101              59   \n",
       "Ne                         116          116          116              47   \n",
       "P                           72           72           72              49   \n",
       "\n",
       "                   Reviewee ID  Comment 1  Comment 2  Comment 3  \\\n",
       "Polarity_Comment3                                                 \n",
       "N                          101        101        101        101   \n",
       "Ne                         116        116        116        116   \n",
       "P                           72         72         72         72   \n",
       "\n",
       "                   Polarity_Comment1   id  \n",
       "Polarity_Comment3                          \n",
       "N                                  0  101  \n",
       "Ne                                 0  116  \n",
       "P                                  0   72  "
      ]
     },
     "execution_count": 27,
     "metadata": {},
     "output_type": "execute_result"
    }
   ],
   "source": [
    "input_data.groupby('Polarity_Comment3').count()"
   ]
  },
  {
   "cell_type": "code",
   "execution_count": 28,
   "metadata": {
    "collapsed": false,
    "scrolled": true
   },
   "outputs": [
    {
     "data": {
      "text/html": [
       "<div>\n",
       "<style>\n",
       "    .dataframe thead tr:only-child th {\n",
       "        text-align: right;\n",
       "    }\n",
       "\n",
       "    .dataframe thead th {\n",
       "        text-align: left;\n",
       "    }\n",
       "\n",
       "    .dataframe tbody tr th {\n",
       "        vertical-align: top;\n",
       "    }\n",
       "</style>\n",
       "<table border=\"1\" class=\"dataframe\">\n",
       "  <thead>\n",
       "    <tr style=\"text-align: right;\">\n",
       "      <th></th>\n",
       "      <th>Reviewer ID</th>\n",
       "      <th>Reviewer BU</th>\n",
       "      <th>Reviewer CG</th>\n",
       "      <th>Reviewer Track</th>\n",
       "      <th>Reviewee ID</th>\n",
       "      <th>Comment 1</th>\n",
       "      <th>Comment 2</th>\n",
       "      <th>Comment 3</th>\n",
       "      <th>Polarity_Comment1</th>\n",
       "      <th>Polarity_Comment3</th>\n",
       "      <th>id</th>\n",
       "    </tr>\n",
       "  </thead>\n",
       "  <tbody>\n",
       "    <tr>\n",
       "      <th>0</th>\n",
       "      <td>1264</td>\n",
       "      <td>Evanston</td>\n",
       "      <td>Business Consulting</td>\n",
       "      <td>No Selection</td>\n",
       "      <td>159</td>\n",
       "      <td>Over the past year, Brenda has been a key lead...</td>\n",
       "      <td>Brenda is very service oriented and responsive...</td>\n",
       "      <td>Brenda's communication style with her team / s...</td>\n",
       "      <td>NaN</td>\n",
       "      <td>N</td>\n",
       "      <td>1</td>\n",
       "    </tr>\n",
       "    <tr>\n",
       "      <th>1</th>\n",
       "      <td>2348</td>\n",
       "      <td>Chicago</td>\n",
       "      <td>Business Consulting</td>\n",
       "      <td>No Selection</td>\n",
       "      <td>432</td>\n",
       "      <td>Chuck&amp;nbsp;is the de facto alignment / territo...</td>\n",
       "      <td>Chuck is THE alignment expert at ZS in my opin...</td>\n",
       "      <td>Chuck is faced with a bit of a catch-22. He is...</td>\n",
       "      <td>NaN</td>\n",
       "      <td>Ne</td>\n",
       "      <td>2</td>\n",
       "    </tr>\n",
       "    <tr>\n",
       "      <th>2</th>\n",
       "      <td>238</td>\n",
       "      <td>Evanston</td>\n",
       "      <td>Business Consulting</td>\n",
       "      <td>No Selection</td>\n",
       "      <td>432</td>\n",
       "      <td>Chuck gives me great leverage on alignment pro...</td>\n",
       "      <td>Chuck is very willing to help out with proposa...</td>\n",
       "      <td>Two areas for Chuck to continue to work on: &amp;n...</td>\n",
       "      <td>NaN</td>\n",
       "      <td>Ne</td>\n",
       "      <td>3</td>\n",
       "    </tr>\n",
       "    <tr>\n",
       "      <th>3</th>\n",
       "      <td>2245</td>\n",
       "      <td>Chicago</td>\n",
       "      <td>Business Consulting</td>\n",
       "      <td>No Selection</td>\n",
       "      <td>462</td>\n",
       "      <td>Joy is always focused on the best outcome for ...</td>\n",
       "      <td>Makes strong effort to understand project need...</td>\n",
       "      <td>While very challenging in practice, try to be ...</td>\n",
       "      <td>NaN</td>\n",
       "      <td>P</td>\n",
       "      <td>4</td>\n",
       "    </tr>\n",
       "    <tr>\n",
       "      <th>4</th>\n",
       "      <td>1085</td>\n",
       "      <td>Evanston</td>\n",
       "      <td>Business Consulting</td>\n",
       "      <td>No Selection</td>\n",
       "      <td>462</td>\n",
       "      <td>Joy is without question adds impact to this or...</td>\n",
       "      <td>1.&amp;nbsp; Clear and concise in her communicatio...</td>\n",
       "      <td>I honestly don't have asks of what I would hop...</td>\n",
       "      <td>NaN</td>\n",
       "      <td>P</td>\n",
       "      <td>5</td>\n",
       "    </tr>\n",
       "  </tbody>\n",
       "</table>\n",
       "</div>"
      ],
      "text/plain": [
       "   Reviewer ID Reviewer BU          Reviewer CG Reviewer Track  Reviewee ID  \\\n",
       "0         1264    Evanston  Business Consulting   No Selection          159   \n",
       "1         2348     Chicago  Business Consulting   No Selection          432   \n",
       "2          238    Evanston  Business Consulting   No Selection          432   \n",
       "3         2245     Chicago  Business Consulting   No Selection          462   \n",
       "4         1085    Evanston  Business Consulting   No Selection          462   \n",
       "\n",
       "                                           Comment 1  \\\n",
       "0  Over the past year, Brenda has been a key lead...   \n",
       "1  Chuck&nbsp;is the de facto alignment / territo...   \n",
       "2  Chuck gives me great leverage on alignment pro...   \n",
       "3  Joy is always focused on the best outcome for ...   \n",
       "4  Joy is without question adds impact to this or...   \n",
       "\n",
       "                                           Comment 2  \\\n",
       "0  Brenda is very service oriented and responsive...   \n",
       "1  Chuck is THE alignment expert at ZS in my opin...   \n",
       "2  Chuck is very willing to help out with proposa...   \n",
       "3  Makes strong effort to understand project need...   \n",
       "4  1.&nbsp; Clear and concise in her communicatio...   \n",
       "\n",
       "                                           Comment 3  Polarity_Comment1  \\\n",
       "0  Brenda's communication style with her team / s...                NaN   \n",
       "1  Chuck is faced with a bit of a catch-22. He is...                NaN   \n",
       "2  Two areas for Chuck to continue to work on: &n...                NaN   \n",
       "3  While very challenging in practice, try to be ...                NaN   \n",
       "4  I honestly don't have asks of what I would hop...                NaN   \n",
       "\n",
       "  Polarity_Comment3  id  \n",
       "0                 N   1  \n",
       "1                Ne   2  \n",
       "2                Ne   3  \n",
       "3                 P   4  \n",
       "4                 P   5  "
      ]
     },
     "execution_count": 28,
     "metadata": {},
     "output_type": "execute_result"
    }
   ],
   "source": [
    "input_data.head()"
   ]
  },
  {
   "cell_type": "code",
   "execution_count": 12,
   "metadata": {
    "collapsed": true
   },
   "outputs": [],
   "source": [
    "translator = str.maketrans('', '', string.punctuation)\n"
   ]
  },
  {
   "cell_type": "code",
   "execution_count": null,
   "metadata": {
    "collapsed": true
   },
   "outputs": [],
   "source": []
  },
  {
   "cell_type": "code",
   "execution_count": 56,
   "metadata": {
    "collapsed": true
   },
   "outputs": [],
   "source": [
    "import re\n",
    "from nltk.corpus import stopwords\n",
    "\n",
    "\n",
    "def PreprocessText(row):\n",
    "    #print(row)\n",
    "    text = row['Comment 3']\n",
    "    lowers = text.lower()\n",
    "    pattern = re.compile('\\W+')\n",
    "    no_punctuation = pattern.sub(' ', lowers)\n",
    "    filtered = [w for w in no_punctuation if not w in stopwords.words('english')]\n",
    "\n",
    "    stemmer = PorterStemmer()\n",
    "    stemmed = stem_tokens(filtered, stemmer)\n",
    "\n",
    "    \n",
    "    return(filtered)"
   ]
  },
  {
   "cell_type": "code",
   "execution_count": 81,
   "metadata": {
    "collapsed": false
   },
   "outputs": [],
   "source": [
    "from sklearn.feature_extraction.text import TfidfVectorizer\n",
    "stemmer = PorterStemmer()\n",
    "from sklearn.feature_extraction import text\n",
    "from sklearn.feature_extraction.text import TfidfVectorizer\n",
    " \n",
    "token_dict = {}\n",
    "\n",
    "def stem_tokens(tokens, stemmer):\n",
    "    stemmed = []\n",
    "    for item in tokens:\n",
    "        stemmed.append(stemmer.stem(item))\n",
    "    return stemmed\n",
    "\n",
    "    \n",
    "def tokenize(text):\n",
    "    tokens = nltk.word_tokenize(text)\n",
    "    stems = stem_tokens(tokens, stemmer)\n",
    "    return stems\n",
    "\n",
    "for index, row in input_data.iterrows():\n",
    "    comment = row['Comment 3']\n",
    "    lowers = comment.lower()\n",
    "    pattern = re.compile('[^A-Za-z]+')\n",
    "    no_punctuation = pattern.sub(' ', lowers)\n",
    "    token_dict[row['id']] = no_punctuation \n",
    "    \n",
    "my_stop_words = text.ENGLISH_STOP_WORDS.union(custom_sw)\n",
    "\n",
    "tfidf = TfidfVectorizer(tokenizer=tokenize, stop_words = my_stop_words, min_df= 5)\n"
   ]
  },
  {
   "cell_type": "code",
   "execution_count": 82,
   "metadata": {
    "collapsed": false
   },
   "outputs": [],
   "source": [
    "tfs = tfidf.fit_transform(token_dict.values())\n"
   ]
  },
  {
   "cell_type": "code",
   "execution_count": 83,
   "metadata": {
    "collapsed": false
   },
   "outputs": [
    {
     "name": "stdout",
     "output_type": "stream",
     "text": [
      "         1    2    3    4    5    6    7    8    9    10  ...   280  281  282  \\\n",
      "abil     0.0  0.0  0.0  0.0  0.0  0.0  0.0  0.0  0.0  0.0 ...   0.0  0.0  0.0   \n",
      "abl      0.0  0.0  0.0  0.0  0.0  0.0  0.0  0.0  0.0  0.0 ...   0.0  0.0  0.0   \n",
      "account  0.0  0.0  0.0  0.0  0.0  0.0  0.0  0.0  0.0  0.0 ...   0.0  0.0  0.0   \n",
      "achiev   0.0  0.0  0.0  0.0  0.0  0.0  0.0  0.0  0.0  0.0 ...   0.0  0.0  0.0   \n",
      "act      0.0  0.0  0.0  0.0  0.0  0.0  0.0  0.0  0.0  0.0 ...   0.0  0.0  0.0   \n",
      "\n",
      "         283  284  285  286  287  288  289  \n",
      "abil     0.0  0.0  0.0  0.0  0.0  0.0  0.0  \n",
      "abl      0.0  0.0  0.0  0.0  0.0  0.0  0.0  \n",
      "account  0.0  0.0  0.0  0.0  0.0  0.0  0.0  \n",
      "achiev   0.0  0.0  0.0  0.0  0.0  0.0  0.0  \n",
      "act      0.0  0.0  0.0  0.0  0.0  0.0  0.0  \n",
      "\n",
      "[5 rows x 289 columns]\n"
     ]
    }
   ],
   "source": [
    "feature_names = tfidf.get_feature_names()\n",
    "corpus_index = [n for n in token_dict]\n",
    "import pandas as pd\n",
    "df = pd.DataFrame(tfs.T.todense(), index=feature_names, columns=corpus_index)\n",
    "print(df.head())"
   ]
  },
  {
   "cell_type": "code",
   "execution_count": 48,
   "metadata": {
    "collapsed": true
   },
   "outputs": [],
   "source": [
    "from sklearn.cross_validation import train_test_split"
   ]
  },
  {
   "cell_type": "code",
   "execution_count": 84,
   "metadata": {
    "collapsed": false
   },
   "outputs": [
    {
     "data": {
      "text/plain": [
       "['abil',\n",
       " 'abl',\n",
       " 'account',\n",
       " 'achiev',\n",
       " 'act',\n",
       " 'action',\n",
       " 'activ',\n",
       " 'add',\n",
       " 'addit',\n",
       " 'address',\n",
       " 'admin',\n",
       " 'advanc',\n",
       " 'advic',\n",
       " 'advisor',\n",
       " 'aggress',\n",
       " 'align',\n",
       " 'allow',\n",
       " 'alreadi',\n",
       " 'alway',\n",
       " 'analysi',\n",
       " 'analyt',\n",
       " 'ani',\n",
       " 'ann',\n",
       " 'anoth',\n",
       " 'answer',\n",
       " 'appli',\n",
       " 'approach',\n",
       " 'appropri',\n",
       " 'area',\n",
       " 'ask',\n",
       " 'assert',\n",
       " 'associ',\n",
       " 'attitud',\n",
       " 'avoid',\n",
       " 'awar',\n",
       " 'balanc',\n",
       " 'base',\n",
       " 'basi',\n",
       " 'becaus',\n",
       " 'becom',\n",
       " 'befor',\n",
       " 'believ',\n",
       " 'benefit',\n",
       " 'best',\n",
       " 'better',\n",
       " 'bigger',\n",
       " 'bit',\n",
       " 'book',\n",
       " 'bring',\n",
       " 'broaden',\n",
       " 'broader',\n",
       " 'build',\n",
       " 'busi',\n",
       " 'capabl',\n",
       " 'care',\n",
       " 'case',\n",
       " 'caus',\n",
       " 'certain',\n",
       " 'challeng',\n",
       " 'chang',\n",
       " 'check',\n",
       " 'clear',\n",
       " 'client',\n",
       " 'close',\n",
       " 'coach',\n",
       " 'collabor',\n",
       " 'come',\n",
       " 'comfort',\n",
       " 'commun',\n",
       " 'complet',\n",
       " 'complex',\n",
       " 'concern',\n",
       " 'confid',\n",
       " 'connect',\n",
       " 'consid',\n",
       " 'consist',\n",
       " 'construct',\n",
       " 'consult',\n",
       " 'content',\n",
       " 'continu',\n",
       " 'control',\n",
       " 'convers',\n",
       " 'correct',\n",
       " 'coupl',\n",
       " 'creat',\n",
       " 'credibl',\n",
       " 'critic',\n",
       " 'csl',\n",
       " 'current',\n",
       " 'custom',\n",
       " 'cycl',\n",
       " 'data',\n",
       " 'day',\n",
       " 'decis',\n",
       " 'deck',\n",
       " 'deepen',\n",
       " 'definit',\n",
       " 'delay',\n",
       " 'deleg',\n",
       " 'deliv',\n",
       " 'deliver',\n",
       " 'deliveri',\n",
       " 'demonstr',\n",
       " 'design',\n",
       " 'despit',\n",
       " 'develop',\n",
       " 'differ',\n",
       " 'difficult',\n",
       " 'direct',\n",
       " 'disciplin',\n",
       " 'discuss',\n",
       " 'doe',\n",
       " 'doesn',\n",
       " 'don',\n",
       " 'drive',\n",
       " 'driven',\n",
       " 'effect',\n",
       " 'effici',\n",
       " 'effort',\n",
       " 'elev',\n",
       " 'empathi',\n",
       " 'encourag',\n",
       " 'engag',\n",
       " 'ensur',\n",
       " 'especi',\n",
       " 'establish',\n",
       " 'event',\n",
       " 'exampl',\n",
       " 'execut',\n",
       " 'expand',\n",
       " 'expect',\n",
       " 'experi',\n",
       " 'expert',\n",
       " 'expertis',\n",
       " 'express',\n",
       " 'facilit',\n",
       " 'feedback',\n",
       " 'feel',\n",
       " 'figur',\n",
       " 'firm',\n",
       " 'focu',\n",
       " 'focus',\n",
       " 'follow',\n",
       " 'formal',\n",
       " 'forward',\n",
       " 'frequenc',\n",
       " 'frustrat',\n",
       " 'fulli',\n",
       " 'futur',\n",
       " 'gener',\n",
       " 'given',\n",
       " 'good',\n",
       " 'great',\n",
       " 'greater',\n",
       " 'grow',\n",
       " 'growth',\n",
       " 'guid',\n",
       " 'guidanc',\n",
       " 'hand',\n",
       " 'handl',\n",
       " 'happen',\n",
       " 'hard',\n",
       " 'help',\n",
       " 'high',\n",
       " 'hone',\n",
       " 'hope',\n",
       " 'hour',\n",
       " 'howev',\n",
       " 'idea',\n",
       " 'identifi',\n",
       " 'impact',\n",
       " 'implement',\n",
       " 'import',\n",
       " 'improv',\n",
       " 'includ',\n",
       " 'increas',\n",
       " 'individu',\n",
       " 'industri',\n",
       " 'influenc',\n",
       " 'inform',\n",
       " 'initi',\n",
       " 'innov',\n",
       " 'insight',\n",
       " 'instanc',\n",
       " 'interact',\n",
       " 'intern',\n",
       " 'interperson',\n",
       " 'invest',\n",
       " 'involv',\n",
       " 'issu',\n",
       " 'job',\n",
       " 'junior',\n",
       " 'just',\n",
       " 'key',\n",
       " 'know',\n",
       " 'knowledg',\n",
       " 'lack',\n",
       " 'languag',\n",
       " 'ldquo',\n",
       " 'lead',\n",
       " 'leader',\n",
       " 'leadership',\n",
       " 'learn',\n",
       " 'leav',\n",
       " 'let',\n",
       " 'level',\n",
       " 'leverag',\n",
       " 'li',\n",
       " 'like',\n",
       " 'limit',\n",
       " 'line',\n",
       " 'listen',\n",
       " 'littl',\n",
       " 'local',\n",
       " 'long',\n",
       " 'longer',\n",
       " 'look',\n",
       " 'lot',\n",
       " 'maintain',\n",
       " 'make',\n",
       " 'manag',\n",
       " 'mani',\n",
       " 'mark',\n",
       " 'market',\n",
       " 'matt',\n",
       " 'medic',\n",
       " 'meet',\n",
       " 'member',\n",
       " 'mind',\n",
       " 'mindset',\n",
       " 'miss',\n",
       " 'model',\n",
       " 'month',\n",
       " 'multipl',\n",
       " 'natur',\n",
       " 'necessarili',\n",
       " 'need',\n",
       " 'neg',\n",
       " 'new',\n",
       " 'note',\n",
       " 'object',\n",
       " 'observ',\n",
       " 'occas',\n",
       " 'offer',\n",
       " 'offic',\n",
       " 'offshor',\n",
       " 'onli',\n",
       " 'onshor',\n",
       " 'open',\n",
       " 'oper',\n",
       " 'opinion',\n",
       " 'opportun',\n",
       " 'oppos',\n",
       " 'order',\n",
       " 'organ',\n",
       " 'orient',\n",
       " 'outcom',\n",
       " 'outsid',\n",
       " 'overal',\n",
       " 'ownership',\n",
       " 'pam',\n",
       " 'partner',\n",
       " 'peer',\n",
       " 'peopl',\n",
       " 'perhap',\n",
       " 'person',\n",
       " 'perspect',\n",
       " 'place',\n",
       " 'plan',\n",
       " 'play',\n",
       " 'point',\n",
       " 'posit',\n",
       " 'possibl',\n",
       " 'practic',\n",
       " 'pranav',\n",
       " 'prepar',\n",
       " 'presenc',\n",
       " 'present',\n",
       " 'princip',\n",
       " 'priorit',\n",
       " 'proactiv',\n",
       " 'problem',\n",
       " 'process',\n",
       " 'product',\n",
       " 'progress',\n",
       " 'project',\n",
       " 'propos',\n",
       " 'provid',\n",
       " 'pull',\n",
       " 'push',\n",
       " 'qc',\n",
       " 'qualiti',\n",
       " 'question',\n",
       " 'quickli',\n",
       " 'quit',\n",
       " 'reach',\n",
       " 'realli',\n",
       " 'recent',\n",
       " 'relat',\n",
       " 'relationship',\n",
       " 'remain',\n",
       " 'report',\n",
       " 'request',\n",
       " 'requir',\n",
       " 'research',\n",
       " 'respons',\n",
       " 'result',\n",
       " 'review',\n",
       " 'right',\n",
       " 'role',\n",
       " 'say',\n",
       " 'scope',\n",
       " 'seek',\n",
       " 'seen',\n",
       " 'self',\n",
       " 'sell',\n",
       " 'senior',\n",
       " 'sens',\n",
       " 'set',\n",
       " 'sever',\n",
       " 'share',\n",
       " 'shelley',\n",
       " 'signific',\n",
       " 'similar',\n",
       " 'simon',\n",
       " 'sinc',\n",
       " 'situat',\n",
       " 'skill',\n",
       " 'slide',\n",
       " 'slow',\n",
       " 'solut',\n",
       " 'solv',\n",
       " 'someth',\n",
       " 'sometim',\n",
       " 'space',\n",
       " 'specif',\n",
       " 'spend',\n",
       " 'staf',\n",
       " 'stakehold',\n",
       " 'standard',\n",
       " 'start',\n",
       " 'stay',\n",
       " 'step',\n",
       " 'stori',\n",
       " 'strategi',\n",
       " 'stress',\n",
       " 'strong',\n",
       " 'stronger',\n",
       " 'structur',\n",
       " 'struggl',\n",
       " 'style',\n",
       " 'success',\n",
       " 'suggest',\n",
       " 'support',\n",
       " 'sure',\n",
       " 'sustain',\n",
       " 'task',\n",
       " 'team',\n",
       " 'technic',\n",
       " 'tend',\n",
       " 'term',\n",
       " 'thi',\n",
       " 'thing',\n",
       " 'think',\n",
       " 'thought',\n",
       " 'time',\n",
       " 'timelin',\n",
       " 'togeth',\n",
       " 'tone',\n",
       " 'topic',\n",
       " 'travel',\n",
       " 'tri',\n",
       " 'trust',\n",
       " 'turn',\n",
       " 'understand',\n",
       " 'unfortun',\n",
       " 'unstructur',\n",
       " 'use',\n",
       " 'valu',\n",
       " 'veri',\n",
       " 'visibl',\n",
       " 'want',\n",
       " 'way',\n",
       " 'week',\n",
       " 'work',\n",
       " 'written',\n",
       " 'year']"
      ]
     },
     "execution_count": 84,
     "metadata": {},
     "output_type": "execute_result"
    }
   ],
   "source": [
    "feature_names"
   ]
  },
  {
   "cell_type": "code",
   "execution_count": 79,
   "metadata": {
    "collapsed": false
   },
   "outputs": [],
   "source": [
    "custom_sw = ['hi','amp','bd','d','e','g', 'gt','hi','ha','ic','mp', 'nbsp','ndash','ol', 'rdquo','rsquo','t', 's','ul','ve','wa','zs']"
   ]
  },
  {
   "cell_type": "code",
   "execution_count": 52,
   "metadata": {
    "collapsed": false
   },
   "outputs": [
    {
     "data": {
      "text/plain": [
       "Index(['Reviewer ID', 'Reviewer BU', 'Reviewer CG', 'Reviewer Track',\n",
       "       'Reviewee ID', 'Comment 1', 'Comment 2', 'Comment 3',\n",
       "       'Polarity_Comment1', 'Polarity_Comment3', 'id'],\n",
       "      dtype='object')"
      ]
     },
     "execution_count": 52,
     "metadata": {},
     "output_type": "execute_result"
    }
   ],
   "source": [
    "frinput_data.columns"
   ]
  },
  {
   "cell_type": "code",
   "execution_count": 90,
   "metadata": {
    "collapsed": false
   },
   "outputs": [
    {
     "data": {
      "text/plain": [
       "0.5056179775280899"
      ]
     },
     "execution_count": 90,
     "metadata": {},
     "output_type": "execute_result"
    }
   ],
   "source": [
    "from sklearn.linear_model import LogisticRegression\n",
    "from sklearn.metrics import accuracy_score\n",
    "\n",
    "X_train,X_test=tfs[:200],tfs[200:]\n",
    "Y_train = input_data['Polarity_Comment3'][:200]\n",
    "Y_test = input_data['Polarity_Comment3'][200:]\n",
    "logreg = LogisticRegression(C=1e5)\n",
    "logreg.fit(X_train,Y_train)\n",
    "pred=logreg.predict(X_test)\n",
    "accuracy_score(Y_test, pred)"
   ]
  },
  {
   "cell_type": "code",
   "execution_count": 66,
   "metadata": {
    "collapsed": false
   },
   "outputs": [
    {
     "data": {
      "text/plain": [
       "<200x1695 sparse matrix of type '<class 'numpy.float64'>'\n",
       "\twith 5272 stored elements in Compressed Sparse Row format>"
      ]
     },
     "execution_count": 66,
     "metadata": {},
     "output_type": "execute_result"
    }
   ],
   "source": [
    "tfs[:200]"
   ]
  },
  {
   "cell_type": "code",
   "execution_count": 88,
   "metadata": {
    "collapsed": false
   },
   "outputs": [
    {
     "data": {
      "text/plain": [
       "0.30337078651685395"
      ]
     },
     "execution_count": 88,
     "metadata": {},
     "output_type": "execute_result"
    }
   ],
   "source": [
    "from sklearn.naive_bayes import MultinomialNB\n",
    "\n",
    "clf = MultinomialNB()\n",
    "clf.fit(X_train,Y_train)\n",
    "\n",
    "\n",
    "nb_pred=clf.predict(X_test)\n",
    "accuracy_score(Y_test, nb_pred)"
   ]
  },
  {
   "cell_type": "code",
   "execution_count": 86,
   "metadata": {
    "collapsed": false
   },
   "outputs": [
    {
     "data": {
      "text/plain": [
       "0.19101123595505617"
      ]
     },
     "execution_count": 86,
     "metadata": {},
     "output_type": "execute_result"
    }
   ],
   "source": [
    "from sklearn import svm\n",
    "\n",
    "clf = svm.SVC()\n",
    "clf.fit(X_train,Y_train)\n",
    "svm_pred=clf.predict(X_test)\n",
    "accuracy_score(Y_test, svm_pred)\n"
   ]
  },
  {
   "cell_type": "code",
   "execution_count": 62,
   "metadata": {
    "collapsed": false
   },
   "outputs": [
    {
     "data": {
      "text/plain": [
       "<200x1695 sparse matrix of type '<class 'numpy.float64'>'\n",
       "\twith 5272 stored elements in Compressed Sparse Row format>"
      ]
     },
     "execution_count": 62,
     "metadata": {},
     "output_type": "execute_result"
    }
   ],
   "source": []
  },
  {
   "cell_type": "code",
   "execution_count": null,
   "metadata": {
    "collapsed": true
   },
   "outputs": [],
   "source": []
  }
 ],
 "metadata": {
  "anaconda-cloud": {},
  "kernelspec": {
   "display_name": "Python [python3]",
   "language": "python",
   "name": "Python [python3]"
  },
  "language_info": {
   "codemirror_mode": {
    "name": "ipython",
    "version": 3
   },
   "file_extension": ".py",
   "mimetype": "text/x-python",
   "name": "python",
   "nbconvert_exporter": "python",
   "pygments_lexer": "ipython3",
   "version": "3.6.1"
  }
 },
 "nbformat": 4,
 "nbformat_minor": 0
}
